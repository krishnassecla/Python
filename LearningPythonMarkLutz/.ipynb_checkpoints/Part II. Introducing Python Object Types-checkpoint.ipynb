{
 "cells": [
  {
   "cell_type": "code",
   "execution_count": 4,
   "id": "5352e782",
   "metadata": {},
   "outputs": [],
   "source": [
    "x = 3 + 4j"
   ]
  },
  {
   "cell_type": "code",
   "execution_count": 12,
   "id": "a0d84a9a",
   "metadata": {},
   "outputs": [
    {
     "name": "stdout",
     "output_type": "stream",
     "text": [
      "(3+4j)\n",
      "<class 'complex'>\n",
      "(-13+66j)\n",
      "(-7+24j)\n",
      "(0.3333333333333333+0.4444444444444444j)\n"
     ]
    }
   ],
   "source": [
    "print(x)\n",
    "print(type(x))\n",
    "print(x * (9 + 10j))\n",
    "print(x**2)\n",
    "print(x**1/9)"
   ]
  },
  {
   "cell_type": "code",
   "execution_count": 15,
   "id": "084b3f92",
   "metadata": {},
   "outputs": [
    {
     "data": {
      "text/plain": [
       "3.141592653589793"
      ]
     },
     "execution_count": 15,
     "metadata": {},
     "output_type": "execute_result"
    }
   ],
   "source": [
    "import math\n",
    "math.pi"
   ]
  },
  {
   "cell_type": "code",
   "execution_count": 17,
   "id": "b631a0c4",
   "metadata": {},
   "outputs": [],
   "source": [
    "set(\"abc\")\n",
    "None"
   ]
  },
  {
   "cell_type": "code",
   "execution_count": 25,
   "id": "82a464bd",
   "metadata": {},
   "outputs": [
    {
     "data": {
      "text/plain": [
       "6.283"
      ]
     },
     "execution_count": 25,
     "metadata": {},
     "output_type": "execute_result"
    }
   ],
   "source": [
    "3.1415 * 2"
   ]
  },
  {
   "cell_type": "code",
   "execution_count": 26,
   "id": "09594e48",
   "metadata": {},
   "outputs": [
    {
     "name": "stdout",
     "output_type": "stream",
     "text": [
      "6.283\n"
     ]
    }
   ],
   "source": [
    "print(3.1415 * 2)"
   ]
  },
  {
   "cell_type": "code",
   "execution_count": 29,
   "id": "daa31999",
   "metadata": {},
   "outputs": [
    {
     "data": {
      "text/plain": [
       "'6.283'"
      ]
     },
     "execution_count": 29,
     "metadata": {},
     "output_type": "execute_result"
    }
   ],
   "source": [
    "op = 3.1415 * 2\n",
    "dir(op)\n",
    "op.__repr__()\n",
    "op.__str__()"
   ]
  },
  {
   "cell_type": "code",
   "execution_count": 30,
   "id": "d329fa6b",
   "metadata": {},
   "outputs": [
    {
     "data": {
      "text/plain": [
       "3.141592653589793"
      ]
     },
     "execution_count": 30,
     "metadata": {},
     "output_type": "execute_result"
    }
   ],
   "source": [
    "math.pi"
   ]
  },
  {
   "cell_type": "code",
   "execution_count": 32,
   "id": "a7fd70b9",
   "metadata": {},
   "outputs": [
    {
     "data": {
      "text/plain": [
       "9.0"
      ]
     },
     "execution_count": 32,
     "metadata": {},
     "output_type": "execute_result"
    }
   ],
   "source": [
    "math.sqrt(81)"
   ]
  },
  {
   "cell_type": "code",
   "execution_count": 33,
   "id": "23a44de8",
   "metadata": {},
   "outputs": [
    {
     "data": {
      "text/plain": [
       "0.10280634850073889"
      ]
     },
     "execution_count": 33,
     "metadata": {},
     "output_type": "execute_result"
    }
   ],
   "source": [
    "import random\n",
    "random.random()"
   ]
  },
  {
   "cell_type": "code",
   "execution_count": 72,
   "id": "4eb685a9",
   "metadata": {},
   "outputs": [
    {
     "data": {
      "text/plain": [
       "34"
      ]
     },
     "execution_count": 72,
     "metadata": {},
     "output_type": "execute_result"
    }
   ],
   "source": [
    "random.choice([1,2,3,4,5])\n",
    "random.choice([x for x in range(1,100)])"
   ]
  },
  {
   "cell_type": "code",
   "execution_count": 97,
   "id": "141a161e",
   "metadata": {},
   "outputs": [
    {
     "data": {
      "text/plain": [
       "[3, 1, 2]"
      ]
     },
     "execution_count": 97,
     "metadata": {},
     "output_type": "execute_result"
    }
   ],
   "source": [
    "x = [x for x in range(1,4)]\n",
    "random.shuffle(x)\n",
    "x"
   ]
  },
  {
   "cell_type": "code",
   "execution_count": 2,
   "id": "ce43c5b5",
   "metadata": {},
   "outputs": [
    {
     "data": {
      "text/plain": [
       "'m'"
      ]
     },
     "execution_count": 2,
     "metadata": {},
     "output_type": "execute_result"
    }
   ],
   "source": [
    "S = \"spam\"\n",
    "S[-1]\n",
    "S[len(S)-1]\n",
    "#both are equivalent"
   ]
  },
  {
   "cell_type": "code",
   "execution_count": 4,
   "id": "309a3127",
   "metadata": {},
   "outputs": [
    {
     "data": {
      "text/plain": [
       "'zpam'"
      ]
     },
     "execution_count": 4,
     "metadata": {},
     "output_type": "execute_result"
    }
   ],
   "source": [
    "# Strings are immutable ibn python.\n",
    "\"z\" + S[1:]"
   ]
  },
  {
   "cell_type": "code",
   "execution_count": 12,
   "id": "3fefca3f",
   "metadata": {},
   "outputs": [
    {
     "data": {
      "text/plain": [
       "'s$$$$m'"
      ]
     },
     "execution_count": 12,
     "metadata": {},
     "output_type": "execute_result"
    }
   ],
   "source": [
    "S.find('m')\n",
    "S.replace('pa', '$$$$')"
   ]
  },
  {
   "cell_type": "code",
   "execution_count": 14,
   "id": "c070f10b",
   "metadata": {},
   "outputs": [
    {
     "data": {
      "text/plain": [
       "['aaa', 'bbb', 'cccc', 'dd']"
      ]
     },
     "execution_count": 14,
     "metadata": {},
     "output_type": "execute_result"
    }
   ],
   "source": [
    "line = 'aaa,bbb,cccc,dd'\n",
    "line.split(',')"
   ]
  },
  {
   "cell_type": "code",
   "execution_count": 22,
   "id": "ba948363",
   "metadata": {},
   "outputs": [
    {
     "data": {
      "text/plain": [
       "'aaaa          '"
      ]
     },
     "execution_count": 22,
     "metadata": {},
     "output_type": "execute_result"
    }
   ],
   "source": [
    "S.isalpha()\n",
    "S.isdigit()\n",
    "line = \"       aaaa          \"\n",
    "line.rstrip()\n",
    "line.lstrip()\n",
    "# dir(S)"
   ]
  },
  {
   "cell_type": "code",
   "execution_count": 23,
   "id": "80234287",
   "metadata": {},
   "outputs": [
    {
     "name": "stdout",
     "output_type": "stream",
     "text": [
      "Help on built-in function replace:\n",
      "\n",
      "replace(old, new, count=-1, /) method of builtins.str instance\n",
      "    Return a copy with all occurrences of substring old replaced by new.\n",
      "    \n",
      "      count\n",
      "        Maximum number of occurrences to replace.\n",
      "        -1 (the default value) means replace all occurrences.\n",
      "    \n",
      "    If the optional argument count is given, only the first count occurrences are\n",
      "    replaced.\n",
      "\n"
     ]
    }
   ],
   "source": [
    "help(S.replace)"
   ]
  },
  {
   "cell_type": "code",
   "execution_count": 24,
   "id": "dcf1fdea",
   "metadata": {},
   "outputs": [
    {
     "name": "stdout",
     "output_type": "stream",
     "text": [
      "No Python documentation found for 'spam'.\n",
      "Use help() to get the interactive help utility.\n",
      "Use help(str) for help on the str class.\n",
      "\n"
     ]
    }
   ],
   "source": [
    "help(S)"
   ]
  },
  {
   "cell_type": "code",
   "execution_count": 33,
   "id": "3bfa57a1",
   "metadata": {},
   "outputs": [
    {
     "data": {
      "text/plain": [
       "9"
      ]
     },
     "execution_count": 33,
     "metadata": {},
     "output_type": "execute_result"
    }
   ],
   "source": [
    "S = '1.Onion\\n2.Garlic\\tPaste'\n",
    "len(S)\n",
    "ord('\\t')\n",
    "# \\t is a byte with binary value 9 in ascii"
   ]
  },
  {
   "cell_type": "code",
   "execution_count": 35,
   "id": "f0000375",
   "metadata": {},
   "outputs": [
    {
     "data": {
      "text/plain": [
       "[123, 'spam', 1.23, 1, 2, 3, 4, 5]"
      ]
     },
     "execution_count": 35,
     "metadata": {},
     "output_type": "execute_result"
    }
   ],
   "source": [
    "L = [123, 'spam', 1.23]\n",
    "L + [1,2,3,4,5]"
   ]
  },
  {
   "cell_type": "code",
   "execution_count": 68,
   "id": "ad6c3f4e",
   "metadata": {},
   "outputs": [
    {
     "data": {
      "text/plain": [
       "6"
      ]
     },
     "execution_count": 68,
     "metadata": {},
     "output_type": "execute_result"
    }
   ],
   "source": [
    "M = [[1,2,3,],\n",
    "    [4,5,6],\n",
    "    [7,8,9]]\n",
    "col2 = [row[1] for row in M]\n",
    "col2\n",
    "[row[1] for row in M if row[1] % 2 ==0]\n",
    "\n",
    "# to take out diagnol elementrs\n",
    "diag = [M[i][i] for i in [0,1,2]]\n",
    "diag\n",
    "# arko_diag = [m[i] for m in M && for i in [2,1,0]]\n",
    "# arko_diag\n",
    "# how to get ending diagnol from a square matrix\n",
    "G = (sum(row) for row in M) # G is a generator not a tuple\n",
    "next(G)\n",
    "\n",
    "\n"
   ]
  },
  {
   "cell_type": "code",
   "execution_count": 70,
   "id": "3a2ecdda",
   "metadata": {},
   "outputs": [
    {
     "data": {
      "text/plain": [
       "[[1, 2, 3], [4, 5, 6], [7, 8, 9]]"
      ]
     },
     "execution_count": 70,
     "metadata": {},
     "output_type": "execute_result"
    }
   ],
   "source": [
    "list(map(sum, M))\n",
    "# def add(vals):\n",
    "#     vals.append(\"pravesh\")\n",
    "#     return vals\n",
    "# list(map(add, M))\n",
    "# very similar to js\n",
    "M"
   ]
  },
  {
   "cell_type": "code",
   "execution_count": 74,
   "id": "9123fce5",
   "metadata": {},
   "outputs": [
    {
     "data": {
      "text/plain": [
       "'\\nThe values are the unicode value.\\nPython has a function called ord() (short for ordinal) that returns a character as a number.\\nThere is also a corresponding function called chr() that converts a number into a character\\n. With this in mind the program should start to be clear.'"
      ]
     },
     "execution_count": 74,
     "metadata": {},
     "output_type": "execute_result"
    }
   ],
   "source": [
    "{sum(row) for row in M}\n",
    "{i: sum(M[i]) for i in range(0, len(M))}\n",
    "\"\"\"\n",
    "The values are the unicode value.\n",
    "Python has a function called ord() (short for ordinal) that returns a character as a number.\n",
    "There is also a corresponding function called chr() that converts a number into a character\n",
    ". With this in mind the program should start to be clear.\"\"\"\n"
   ]
  },
  {
   "cell_type": "code",
   "execution_count": 77,
   "id": "18c9d734",
   "metadata": {},
   "outputs": [
    {
     "data": {
      "text/plain": [
       "{'s': 115, 'p': 112, 'a': 97, 'm': 109}"
      ]
     },
     "execution_count": 77,
     "metadata": {},
     "output_type": "execute_result"
    }
   ],
   "source": [
    "[ord(x) for x in 'spam']\n",
    "{ord(x) for x in \"spam\"}\n",
    "{x:ord(x) for x in 'spam'}"
   ]
  },
  {
   "cell_type": "code",
   "execution_count": 86,
   "id": "afd9ced0",
   "metadata": {},
   "outputs": [
    {
     "name": "stdout",
     "output_type": "stream",
     "text": [
      "a =>  1\n",
      "b =>  2\n",
      "c =>  3\n",
      "d =>  4\n",
      "name =>  pravesh\n"
     ]
    }
   ],
   "source": [
    "D = {'a':1, 'b':2, 'c':3, 'name':'pravesh', 'd':4}\n",
    "D\n",
    "sorted(D)\n",
    "for key in sorted(D):\n",
    "    print(key, \"=> \", D[key])"
   ]
  },
  {
   "cell_type": "code",
   "execution_count": 88,
   "id": "72a83b60",
   "metadata": {},
   "outputs": [
    {
     "data": {
      "text/plain": [
       "'there is no any'"
      ]
     },
     "execution_count": 88,
     "metadata": {},
     "output_type": "execute_result"
    }
   ],
   "source": [
    "D.get('lname', \"there is no any\")"
   ]
  },
  {
   "cell_type": "code",
   "execution_count": 94,
   "id": "8bd06c81",
   "metadata": {},
   "outputs": [
    {
     "name": "stdout",
     "output_type": "stream",
     "text": [
      "Help on built-in function seek:\n",
      "\n",
      "seek(cookie, whence=0, /) method of _io.TextIOWrapper instance\n",
      "    Change stream position.\n",
      "    \n",
      "    Change the stream position to the given byte offset. The offset is\n",
      "    interpreted relative to the position indicated by whence.  Values\n",
      "    for whence are:\n",
      "    \n",
      "    * 0 -- start of stream (the default); offset should be zero or positive\n",
      "    * 1 -- current stream position; offset may be negative\n",
      "    * 2 -- end of stream; offset is usually negative\n",
      "    \n",
      "    Return the new absolute position.\n",
      "\n"
     ]
    }
   ],
   "source": [
    "f= open('data.txt', 'w')\n",
    "# file in output mode\n",
    "f.write(\"hello \\n\")\n",
    "f.write(\"world \\n\") #returns number of bytes written\n",
    "f.close()\n",
    "dir(f)\n",
    "help(f.seek)"
   ]
  },
  {
   "cell_type": "code",
   "execution_count": 96,
   "id": "0a75495c",
   "metadata": {},
   "outputs": [
    {
     "data": {
      "text/plain": [
       "b'hello \\nworld \\n'"
      ]
     },
     "execution_count": 96,
     "metadata": {},
     "output_type": "execute_result"
    }
   ],
   "source": [
    "data = open('data.txt', 'rb').read()\n",
    "data"
   ]
  },
  {
   "cell_type": "code",
   "execution_count": 101,
   "id": "7b9673f3",
   "metadata": {},
   "outputs": [
    {
     "data": {
      "text/plain": [
       "Fraction(7, 6)"
      ]
     },
     "execution_count": 101,
     "metadata": {},
     "output_type": "execute_result"
    }
   ],
   "source": [
    "import decimal\n",
    "d = decimal.Decimal(\"3.141\")\n",
    "d+1\n",
    "type(d)\n",
    "decimal.getcontext().prec = 2\n",
    "decimal.Decimal('1.00')/decimal.Decimal('3.00')\n",
    "\n",
    "from fractions import Fraction\n",
    "f = Fraction(2,3)\n",
    "f+1\n",
    "f + Fraction(1,2)"
   ]
  },
  {
   "cell_type": "code",
   "execution_count": 103,
   "id": "dd7a6de8",
   "metadata": {},
   "outputs": [
    {
     "data": {
      "text/plain": [
       "type"
      ]
     },
     "execution_count": 103,
     "metadata": {},
     "output_type": "execute_result"
    }
   ],
   "source": [
    "type(type)"
   ]
  },
  {
   "cell_type": "code",
   "execution_count": 111,
   "id": "dfc1a28d",
   "metadata": {},
   "outputs": [
    {
     "name": "stdout",
     "output_type": "stream",
     "text": [
      "Help on built-in function isinstance in module builtins:\n",
      "\n",
      "isinstance(obj, class_or_tuple, /)\n",
      "    Return whether an object is an instance of a class or of a subclass thereof.\n",
      "    \n",
      "    A tuple, as in ``isinstance(x, (A, B, ...))``, may be given as the target to\n",
      "    check against. This is equivalent to ``isinstance(x, A) or isinstance(x, B)\n",
      "    or ...`` etc.\n",
      "\n",
      "moo\n"
     ]
    },
    {
     "data": {
      "text/plain": [
       "True"
      ]
     },
     "execution_count": 111,
     "metadata": {},
     "output_type": "execute_result"
    }
   ],
   "source": [
    "help(isinstance)\n",
    "isinstance(L, list)\n",
    "class Animal:\n",
    "    def moo():\n",
    "        print('moo')\n",
    "cow = Animal\n",
    "cow.moo()\n",
    "isinstance(cow, type(Animal))"
   ]
  }
 ],
 "metadata": {
  "kernelspec": {
   "display_name": "Python 3 (ipykernel)",
   "language": "python",
   "name": "python3"
  },
  "language_info": {
   "codemirror_mode": {
    "name": "ipython",
    "version": 3
   },
   "file_extension": ".py",
   "mimetype": "text/x-python",
   "name": "python",
   "nbconvert_exporter": "python",
   "pygments_lexer": "ipython3",
   "version": "3.10.6"
  }
 },
 "nbformat": 4,
 "nbformat_minor": 5
}
