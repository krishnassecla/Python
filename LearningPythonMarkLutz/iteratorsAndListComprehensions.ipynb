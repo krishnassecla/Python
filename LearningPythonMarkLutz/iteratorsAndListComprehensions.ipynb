{
 "cells": [
  {
   "cell_type": "code",
   "execution_count": 53,
   "id": "3cd73036",
   "metadata": {},
   "outputs": [
    {
     "data": {
      "text/plain": [
       "['This is a text file.\\n',\n",
       " 'I am pravbes\\n',\n",
       " 'This is a text file.\\n',\n",
       " 'I am pravbesThis is a text file.\\n',\n",
       " 'I am pravbesThis is a text file.\\n',\n",
       " 'I am pravbesThis is a text file.\\n',\n",
       " 'I am pravbesThis is a text file.\\n',\n",
       " 'I am pravbesThis is a text file.\\n',\n",
       " 'I am pravbes This is a text file.\\n',\n",
       " 'I am pravbes\\n',\n",
       " 'This is a text file.\\n',\n",
       " 'I am pravbesThis is a text file.\\n',\n",
       " 'I am pravbesThis is a text file.\\n',\n",
       " 'I am pravbesThis is a text file.\\n',\n",
       " 'I am pravbes']"
      ]
     },
     "execution_count": 53,
     "metadata": {},
     "output_type": "execute_result"
    }
   ],
   "source": [
    "f = open(\"file.txt\")\n",
    "lines = f.readlines() #returns a list on line strings\n",
    "lines"
   ]
  },
  {
   "cell_type": "code",
   "execution_count": 54,
   "id": "7d9068f7",
   "metadata": {},
   "outputs": [
    {
     "data": {
      "text/plain": [
       "['This is a text file.',\n",
       " 'I am pravbes',\n",
       " 'This is a text file.',\n",
       " 'I am pravbesThis is a text file.',\n",
       " 'I am pravbesThis is a text file.',\n",
       " 'I am pravbesThis is a text file.',\n",
       " 'I am pravbesThis is a text file.',\n",
       " 'I am pravbesThis is a text file.',\n",
       " 'I am pravbes This is a text file.',\n",
       " 'I am pravbes',\n",
       " 'This is a text file.',\n",
       " 'I am pravbesThis is a text file.',\n",
       " 'I am pravbesThis is a text file.',\n",
       " 'I am pravbesThis is a text file.',\n",
       " 'I am pravbes']"
      ]
     },
     "execution_count": 54,
     "metadata": {},
     "output_type": "execute_result"
    }
   ],
   "source": [
    "lines = [line.rstrip() for line in lines]\n",
    "lines"
   ]
  },
  {
   "cell_type": "code",
   "execution_count": 57,
   "id": "2c7d3914",
   "metadata": {},
   "outputs": [],
   "source": [
    "    lines = [line.rstrip() for line in open('file.txt')]"
   ]
  },
  {
   "cell_type": "code",
   "execution_count": 58,
   "id": "ce48ff47",
   "metadata": {},
   "outputs": [
    {
     "data": {
      "text/plain": [
       "['This is a text file.',\n",
       " 'I am pravbes',\n",
       " 'This is a text file.',\n",
       " 'I am pravbesThis is a text file.',\n",
       " 'I am pravbesThis is a text file.',\n",
       " 'I am pravbesThis is a text file.',\n",
       " 'I am pravbesThis is a text file.',\n",
       " 'I am pravbesThis is a text file.',\n",
       " 'I am pravbes This is a text file.',\n",
       " 'I am pravbes',\n",
       " 'This is a text file.',\n",
       " 'I am pravbesThis is a text file.',\n",
       " 'I am pravbesThis is a text file.',\n",
       " 'I am pravbesThis is a text file.',\n",
       " 'I am pravbes']"
      ]
     },
     "execution_count": 58,
     "metadata": {},
     "output_type": "execute_result"
    }
   ],
   "source": [
    "lines"
   ]
  },
  {
   "cell_type": "code",
   "execution_count": 80,
   "id": "cf07f624",
   "metadata": {},
   "outputs": [],
   "source": [
    "f = open('file.txt')\n",
    "lines = f.readlines()"
   ]
  },
  {
   "cell_type": "code",
   "execution_count": 82,
   "id": "cd878442",
   "metadata": {},
   "outputs": [],
   "source": [
    "lines = [line.rstrip() for line in open('file.txt')]"
   ]
  },
  {
   "cell_type": "code",
   "execution_count": 83,
   "id": "bf5f8bce",
   "metadata": {},
   "outputs": [
    {
     "data": {
      "text/plain": [
       "['This is a text file.',\n",
       " 'I am pravbes',\n",
       " 'This is a text file.',\n",
       " 'I am pravbesThis is a text file.',\n",
       " 'I am pravbesThis is a text file.',\n",
       " 'I am pravbesThis is a text file.',\n",
       " 'I am pravbesThis is a text file.',\n",
       " 'I am pravbesThis is a text file.',\n",
       " 'I am pravbes This is a text file.',\n",
       " 'I am pravbes',\n",
       " 'This is a text file.',\n",
       " 'I am pravbesThis is a text file.',\n",
       " 'I am pravbesThis is a text file.',\n",
       " 'I am pravbesThis is a text file.',\n",
       " 'I am pravbes']"
      ]
     },
     "execution_count": 83,
     "metadata": {},
     "output_type": "execute_result"
    }
   ],
   "source": [
    "lines"
   ]
  },
  {
   "cell_type": "code",
   "execution_count": 85,
   "id": "08e8e3f7",
   "metadata": {},
   "outputs": [
    {
     "data": {
      "text/plain": [
       "['THIS IS A TEXT FILE.\\n',\n",
       " 'I AM PRAVBES\\n',\n",
       " 'THIS IS A TEXT FILE.\\n',\n",
       " 'I AM PRAVBESTHIS IS A TEXT FILE.\\n',\n",
       " 'I AM PRAVBESTHIS IS A TEXT FILE.\\n',\n",
       " 'I AM PRAVBESTHIS IS A TEXT FILE.\\n',\n",
       " 'I AM PRAVBESTHIS IS A TEXT FILE.\\n',\n",
       " 'I AM PRAVBESTHIS IS A TEXT FILE.\\n',\n",
       " 'I AM PRAVBES THIS IS A TEXT FILE.\\n',\n",
       " 'I AM PRAVBES\\n',\n",
       " 'THIS IS A TEXT FILE.\\n',\n",
       " 'I AM PRAVBESTHIS IS A TEXT FILE.\\n',\n",
       " 'I AM PRAVBESTHIS IS A TEXT FILE.\\n',\n",
       " 'I AM PRAVBESTHIS IS A TEXT FILE.\\n',\n",
       " 'I AM PRAVBES']"
      ]
     },
     "execution_count": 85,
     "metadata": {},
     "output_type": "execute_result"
    }
   ],
   "source": [
    "[line.upper() for line in open('file.txt')]"
   ]
  },
  {
   "cell_type": "code",
   "execution_count": 87,
   "id": "d4efeeb7",
   "metadata": {},
   "outputs": [
    {
     "data": {
      "text/plain": [
       "['THIS IS A TEXT FILE.',\n",
       " 'I AM PRAVBES',\n",
       " 'THIS IS A TEXT FILE.',\n",
       " 'I AM PRAVBESTHIS IS A TEXT FILE.',\n",
       " 'I AM PRAVBESTHIS IS A TEXT FILE.',\n",
       " 'I AM PRAVBESTHIS IS A TEXT FILE.',\n",
       " 'I AM PRAVBESTHIS IS A TEXT FILE.',\n",
       " 'I AM PRAVBESTHIS IS A TEXT FILE.',\n",
       " 'I AM PRAVBES THIS IS A TEXT FILE.',\n",
       " 'I AM PRAVBES',\n",
       " 'THIS IS A TEXT FILE.',\n",
       " 'I AM PRAVBESTHIS IS A TEXT FILE.',\n",
       " 'I AM PRAVBESTHIS IS A TEXT FILE.',\n",
       " 'I AM PRAVBESTHIS IS A TEXT FILE.',\n",
       " 'I AM PRAVBES']"
      ]
     },
     "execution_count": 87,
     "metadata": {},
     "output_type": "execute_result"
    }
   ],
   "source": [
    "[line.upper().rstrip() for line in open('file.txt')]\n"
   ]
  },
  {
   "cell_type": "code",
   "execution_count": 89,
   "id": "ccaf35ed",
   "metadata": {},
   "outputs": [
    {
     "data": {
      "text/plain": [
       "[['This', 'is', 'a', 'text', 'file.'],\n",
       " ['I', 'am', 'pravbes'],\n",
       " ['This', 'is', 'a', 'text', 'file.'],\n",
       " ['I', 'am', 'pravbesThis', 'is', 'a', 'text', 'file.'],\n",
       " ['I', 'am', 'pravbesThis', 'is', 'a', 'text', 'file.'],\n",
       " ['I', 'am', 'pravbesThis', 'is', 'a', 'text', 'file.'],\n",
       " ['I', 'am', 'pravbesThis', 'is', 'a', 'text', 'file.'],\n",
       " ['I', 'am', 'pravbesThis', 'is', 'a', 'text', 'file.'],\n",
       " ['I', 'am', 'pravbes', 'This', 'is', 'a', 'text', 'file.'],\n",
       " ['I', 'am', 'pravbes'],\n",
       " ['This', 'is', 'a', 'text', 'file.'],\n",
       " ['I', 'am', 'pravbesThis', 'is', 'a', 'text', 'file.'],\n",
       " ['I', 'am', 'pravbesThis', 'is', 'a', 'text', 'file.'],\n",
       " ['I', 'am', 'pravbesThis', 'is', 'a', 'text', 'file.'],\n",
       " ['I', 'am', 'pravbes']]"
      ]
     },
     "execution_count": 89,
     "metadata": {},
     "output_type": "execute_result"
    }
   ],
   "source": [
    "[line.split() for line in open('file.txt')]"
   ]
  },
  {
   "cell_type": "code",
   "execution_count": 93,
   "id": "bf0ac04d",
   "metadata": {},
   "outputs": [
    {
     "data": {
      "text/plain": [
       "['This**is**a**text**file.\\n',\n",
       " 'I**am**pravbes\\n',\n",
       " 'This**is**a**text**file.\\n',\n",
       " 'I**am**pravbesThis**is**a**text**file.\\n',\n",
       " 'I**am**pravbesThis**is**a**text**file.\\n',\n",
       " 'I**am**pravbesThis**is**a**text**file.\\n',\n",
       " 'I**am**pravbesThis**is**a**text**file.\\n',\n",
       " 'I**am**pravbesThis**is**a**text**file.\\n',\n",
       " 'I**am**pravbes**This**is**a**text**file.\\n',\n",
       " 'I**am**pravbes\\n',\n",
       " 'This**is**a**text**file.\\n',\n",
       " 'I**am**pravbesThis**is**a**text**file.\\n',\n",
       " 'I**am**pravbesThis**is**a**text**file.\\n',\n",
       " 'I**am**pravbesThis**is**a**text**file.\\n',\n",
       " 'I**am**pravbes']"
      ]
     },
     "execution_count": 93,
     "metadata": {},
     "output_type": "execute_result"
    }
   ],
   "source": [
    "[line.replace(' ', '**') for line in open('file.txt')]"
   ]
  },
  {
   "cell_type": "code",
   "execution_count": 98,
   "id": "a2676b67",
   "metadata": {},
   "outputs": [
    {
     "data": {
      "text/plain": [
       "['I am pravbes',\n",
       " 'I am pravbesThis is a text file.',\n",
       " 'I am pravbesThis is a text file.',\n",
       " 'I am pravbesThis is a text file.',\n",
       " 'I am pravbesThis is a text file.',\n",
       " 'I am pravbesThis is a text file.',\n",
       " 'I am pravbes This is a text file.',\n",
       " 'I am pravbes',\n",
       " 'I am pravbesThis is a text file.',\n",
       " 'I am pravbesThis is a text file.',\n",
       " 'I am pravbesThis is a text file.',\n",
       " 'I am pravbes']"
      ]
     },
     "execution_count": 98,
     "metadata": {},
     "output_type": "execute_result"
    }
   ],
   "source": [
    "[line.rstrip() for line in open('file.txt') if line[0].upper() == 'I']"
   ]
  },
  {
   "cell_type": "code",
   "execution_count": 103,
   "id": "5fd2a6c9",
   "metadata": {},
   "outputs": [
    {
     "data": {
      "text/plain": [
       "['pv', 'pe', 'ps', 'rv', 're', 'rs', 'av', 'ae', 'as']"
      ]
     },
     "execution_count": 103,
     "metadata": {},
     "output_type": "execute_result"
    }
   ],
   "source": [
    "[x + y for x in \"pra\" for y in \"ves\"]\n",
    "# \"\"\"\n",
    "# for x in 'pra':\n",
    "#     for y in 'ves'\n",
    "#         list.append(x+y)\n",
    "# \"\"\""
   ]
  },
  {
   "cell_type": "code",
   "execution_count": 106,
   "id": "3d20ffee",
   "metadata": {},
   "outputs": [
    {
     "data": {
      "text/plain": [
       "<map at 0x7f2c33733fd0>"
      ]
     },
     "execution_count": 106,
     "metadata": {},
     "output_type": "execute_result"
    }
   ],
   "source": [
    "# using the map function\n",
    "map(str.upper, \"pravesh\")"
   ]
  },
  {
   "cell_type": "code",
   "execution_count": 112,
   "id": "4903dc38",
   "metadata": {},
   "outputs": [
    {
     "data": {
      "text/plain": [
       "['P', 'R', 'A', 'V', 'E', 'S', 'H']"
      ]
     },
     "execution_count": 112,
     "metadata": {},
     "output_type": "execute_result"
    }
   ],
   "source": [
    "list(map(str.upper, 'pravesh'))"
   ]
  },
  {
   "cell_type": "code",
   "execution_count": 131,
   "id": "143fb012",
   "metadata": {},
   "outputs": [
    {
     "data": {
      "text/plain": [
       "<map at 0x7f2c32e56b00>"
      ]
     },
     "execution_count": 131,
     "metadata": {},
     "output_type": "execute_result"
    }
   ],
   "source": [
    "def square(n, m):\n",
    "    return n*m\n",
    "def add(n, m):\n",
    "    return n + m\n",
    "nums2 = [6,7,8,9,10]\n",
    "nums = [1,2,3,4,5]\n",
    "map(square, nums)"
   ]
  },
  {
   "cell_type": "code",
   "execution_count": 134,
   "id": "0ae19ae0",
   "metadata": {},
   "outputs": [
    {
     "data": {
      "text/plain": [
       "[7, 9, 11, 13, 15]"
      ]
     },
     "execution_count": 134,
     "metadata": {},
     "output_type": "execute_result"
    }
   ],
   "source": [
    "# set(map(square, nums, nums2))\n",
    "list(map(add, nums, nums2))"
   ]
  },
  {
   "cell_type": "code",
   "execution_count": 139,
   "id": "5c1e5308",
   "metadata": {},
   "outputs": [
    {
     "data": {
      "text/plain": [
       "8"
      ]
     },
     "execution_count": 139,
     "metadata": {},
     "output_type": "execute_result"
    }
   ],
   "source": [
    "type(14)\n",
    "pow(2,3)\n"
   ]
  }
 ],
 "metadata": {
  "kernelspec": {
   "display_name": "Python 3 (ipykernel)",
   "language": "python",
   "name": "python3"
  },
  "language_info": {
   "codemirror_mode": {
    "name": "ipython",
    "version": 3
   },
   "file_extension": ".py",
   "mimetype": "text/x-python",
   "name": "python",
   "nbconvert_exporter": "python",
   "pygments_lexer": "ipython3",
   "version": "3.10.6"
  }
 },
 "nbformat": 4,
 "nbformat_minor": 5
}
