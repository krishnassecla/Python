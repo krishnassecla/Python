{
 "cells": [
  {
   "cell_type": "code",
   "execution_count": 1,
   "id": "73fedf1d",
   "metadata": {},
   "outputs": [
    {
     "name": "stdout",
     "output_type": "stream",
     "text": [
      "Mappity map\n"
     ]
    }
   ],
   "source": [
    "print(\"Mappity map\")"
   ]
  },
  {
   "cell_type": "code",
   "execution_count": null,
   "id": "39d9a3b6",
   "metadata": {},
   "outputs": [],
   "source": []
  },
  {
   "cell_type": "code",
   "execution_count": 4,
   "id": "a1b16af6",
   "metadata": {},
   "outputs": [],
   "source": [
    "class Animals:\n",
    "    def moo():\n",
    "        print('moo')"
   ]
  },
  {
   "cell_type": "code",
   "execution_count": 5,
   "id": "2e973295",
   "metadata": {},
   "outputs": [],
   "source": [
    "cow = Animals"
   ]
  },
  {
   "cell_type": "code",
   "execution_count": null,
   "id": "42d2b818",
   "metadata": {},
   "outputs": [],
   "source": []
  },
  {
   "cell_type": "code",
   "execution_count": null,
   "id": "0033d7f4",
   "metadata": {},
   "outputs": [],
   "source": []
  }
 ],
 "metadata": {
  "kernelspec": {
   "display_name": "Python 3 (ipykernel)",
   "language": "python",
   "name": "python3"
  },
  "language_info": {
   "codemirror_mode": {
    "name": "ipython",
    "version": 3
   },
   "file_extension": ".py",
   "mimetype": "text/x-python",
   "name": "python",
   "nbconvert_exporter": "python",
   "pygments_lexer": "ipython3",
   "version": "3.10.6"
  }
 },
 "nbformat": 4,
 "nbformat_minor": 5
}
